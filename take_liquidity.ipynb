{
 "cells": [
  {
   "cell_type": "code",
   "execution_count": 28,
   "metadata": {},
   "outputs": [],
   "source": [
    "import requests\n",
    "import sys"
   ]
  },
  {
   "cell_type": "code",
   "execution_count": 27,
   "metadata": {},
   "outputs": [],
   "source": [
    "\n",
    "def fetch_order_book(exchange, pair):\n",
    "    if exchange == 'coinbase':\n",
    "        url = f'https://api.pro.coinbase.com/products/{pair}/book?level=2'\n",
    "        response = requests.get(url)\n",
    "        data = response.json()\n",
    "        bids = [[float(bid[0]), float(bid[1])] for bid in data['bids']]\n",
    "        asks = [[float(ask[0]), float(ask[1])] for ask in data['asks']]\n",
    "    elif exchange == 'gemini':\n",
    "        url = f'https://api.gemini.com/v1/book/{pair}'\n",
    "        response = requests.get(url)\n",
    "        data = response.json()\n",
    "        bids = [[float(bid['price']), float(bid['amount'])] for bid in data['bids']]\n",
    "        asks = [[float(ask['price']), float(ask['amount'])] for ask in data['asks']]\n",
    "    elif exchange == 'kraken':\n",
    "        url = f'https://api.kraken.com/0/public/Depth?pair={pair}'\n",
    "        response = requests.get(url)\n",
    "        data = response.json()['result'][list(response.json()['result'].keys())[0]]\n",
    "        bids = [[float(bid[0]), float(bid[1])] for bid in data['bids']]\n",
    "        asks = [[float(ask[0]), float(ask[1])] for ask in data['asks']]\n",
    "    else:\n",
    "        raise ValueError(\"Unsupported exchange\")\n",
    "\n",
    "    return {'bids': bids, 'asks': asks}"
   ]
  },
  {
   "cell_type": "code",
   "execution_count": 32,
   "metadata": {},
   "outputs": [
    {
     "name": "stdout",
     "output_type": "stream",
     "text": [
      "highest bid: [69407.92, 0.0576303]\n",
      "lowest ask: [69412.09, 0.05]\n",
      "bid-ask spread: 4.169999999998254\n"
     ]
    }
   ],
   "source": [
    "bid_ask = fetch_order_book('coinbase', 'BTC-USD')\n",
    "print(f'highest bid: {bid_ask[\"bids\"][0]}')\n",
    "print(f'lowest ask: {bid_ask[\"asks\"][0]}')\n",
    "\n",
    "bid_ask_spread = bid_ask['asks'][0][0] - bid_ask['bids'][0][0]\n",
    "print(f'bid-ask spread: {bid_ask_spread}')"
   ]
  },
  {
   "cell_type": "code",
   "execution_count": 33,
   "metadata": {},
   "outputs": [],
   "source": [
    "def get_price(order_book, quantity, side):\n",
    "    total_quantity = 0\n",
    "    total_price = 0\n",
    "    orders = order_book[side]\n",
    "    for order in orders:\n",
    "        price, qty = order\n",
    "        if total_quantity + qty >= quantity:\n",
    "            total_price += (quantity - total_quantity) * price\n",
    "            break\n",
    "        else:\n",
    "            total_quantity += qty\n",
    "            total_price += qty * price\n",
    "    return total_price\n",
    "\n"
   ]
  },
  {
   "cell_type": "code",
   "execution_count": 37,
   "metadata": {},
   "outputs": [],
   "source": [
    "quantity = 10 \n",
    "\n",
    "exchanges = {'coinbase' : 'btc-usd', \n",
    "             'gemini' : 'btcusd',\n",
    "             'kraken' : 'btcusd'}\n",
    "\n",
    "order_books = {}\n",
    "for exchange, ccy_pair in exchanges.items():\n",
    "    order_books[exchange] = fetch_order_book(exchange, ccy_pair)\n",
    "\n",
    "buy_prices = []\n",
    "sell_prices = []\n",
    "for exchange, order_book in order_books.items():\n",
    "    buy_price = get_price(order_book, quantity, 'asks')\n",
    "    sell_price = get_price(order_book, quantity, 'bids')\n",
    "    buy_prices.append((exchange, buy_price))\n",
    "    sell_prices.append((exchange, sell_price))"
   ]
  },
  {
   "cell_type": "code",
   "execution_count": 38,
   "metadata": {},
   "outputs": [
    {
     "name": "stdout",
     "output_type": "stream",
     "text": [
      "Prices to buy 10 BTC - cheapest first:\n",
      "Kraken: $694010.59\n",
      "Coinbase: $694137.04\n",
      "Gemini: $694263.18\n",
      "\n",
      "Prices to sell 10 BTC - expensive first:\n",
      "Kraken: $693861.86\n",
      "Coinbase: $693606.96\n",
      "Gemini: $693420.79\n"
     ]
    }
   ],
   "source": [
    "import locale\n",
    "\n",
    "locale.setlocale(locale.LC_ALL, 'en_US.UTF-8')\n",
    "\n",
    "print(f\"Prices to buy {quantity} BTC - cheapest first:\")\n",
    "for exchange, price in sorted(buy_prices, key=lambda x: x[1]):\n",
    "    print(f\"{exchange.capitalize()}: ${price:.2f}\")\n",
    "\n",
    "print(f\"\\nPrices to sell {quantity} BTC - expensive first:\")\n",
    "for exchange, price in sorted(sell_prices, key=lambda x: x[1], reverse=True):\n",
    "    print(f\"{exchange.capitalize()}: ${price:.2f}\")\n",
    "\n"
   ]
  }
 ],
 "metadata": {
  "kernelspec": {
   "display_name": "Python 3",
   "language": "python",
   "name": "python3"
  },
  "language_info": {
   "codemirror_mode": {
    "name": "ipython",
    "version": 3
   },
   "file_extension": ".py",
   "mimetype": "text/x-python",
   "name": "python",
   "nbconvert_exporter": "python",
   "pygments_lexer": "ipython3",
   "version": "3.9.6"
  },
  "orig_nbformat": 4
 },
 "nbformat": 4,
 "nbformat_minor": 2
}
